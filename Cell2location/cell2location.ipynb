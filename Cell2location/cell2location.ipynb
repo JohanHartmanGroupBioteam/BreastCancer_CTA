{
 "cells": [
  {
   "cell_type": "code",
   "execution_count": 1,
   "id": "3b72bd21-a625-4c71-805b-e0ed2e1ba31f",
   "metadata": {},
   "outputs": [],
   "source": [
    "import torch\n",
    "import os"
   ]
  },
  {
   "cell_type": "code",
   "execution_count": 2,
   "id": "1e032160-3cf2-4c57-944e-7c06c5b31c1c",
   "metadata": {},
   "outputs": [],
   "source": [
    "torch.device(\"mps\")\n",
    "os.environ[\"THEANO_FLAGS\"] = 'device=mps,floatX=float32,force_device=True'"
   ]
  },
  {
   "cell_type": "code",
   "execution_count": 3,
   "id": "22141a4b-faa1-465a-9c5d-a5f044108c9c",
   "metadata": {},
   "outputs": [],
   "source": [
    "# Load packages\n",
    "import sys\n",
    "IN_COLAB = \"google.colab\" in sys.modules\n",
    "if IN_COLAB:\n",
    "    !pip install --quiet scvi-colab\n",
    "    from scvi_colab import install\n",
    "    install()\n",
    "    !pip install --quiet git+https://github.com/BayraktarLab/cell2location#egg=cell2location[tutorials]"
   ]
  },
  {
   "cell_type": "code",
   "execution_count": 4,
   "id": "90df6621-8191-4cdd-8370-1c21cd809ad3",
   "metadata": {},
   "outputs": [],
   "source": [
    "import scanpy as sc\n",
    "import numpy as np\n",
    "import matplotlib.pyplot as plt \n",
    "import matplotlib as mpl\n",
    "\n",
    "import cell2location\n",
    "\n",
    "from matplotlib import rcParams\n",
    "rcParams['pdf.fonttype'] = 42 # enables correct plotting of text for PDFs"
   ]
  },
  {
   "cell_type": "code",
   "execution_count": 5,
   "id": "0eea0d3c-b890-45eb-8958-eebd73049ce1",
   "metadata": {},
   "outputs": [],
   "source": [
    "results_folder = '/Users/tili/Desktop/CIIR/results/cell2location/'\n",
    "\n",
    "# create paths and names to results folders for reference regression and cell2location models\n",
    "ref_run_name = f'{results_folder}/reference_signatures'\n",
    "run_name = f'{results_folder}/cell2location_map'"
   ]
  },
  {
   "cell_type": "code",
   "execution_count": 6,
   "id": "a4b79812-e643-4cc4-aefb-0b446fd9a80d",
   "metadata": {},
   "outputs": [
    {
     "data": {
      "text/html": [
       "<div>\n",
       "<style scoped>\n",
       "    .dataframe tbody tr th:only-of-type {\n",
       "        vertical-align: middle;\n",
       "    }\n",
       "\n",
       "    .dataframe tbody tr th {\n",
       "        vertical-align: top;\n",
       "    }\n",
       "\n",
       "    .dataframe thead th {\n",
       "        text-align: right;\n",
       "    }\n",
       "</style>\n",
       "<table border=\"1\" class=\"dataframe\">\n",
       "  <thead>\n",
       "    <tr style=\"text-align: right;\">\n",
       "      <th></th>\n",
       "      <th>Patient</th>\n",
       "      <th>Patientid</th>\n",
       "      <th>Tumor area</th>\n",
       "      <th>Visium ID</th>\n",
       "      <th>Visum h5ad ID</th>\n",
       "      <th>name</th>\n",
       "      <th>type</th>\n",
       "      <th>sampleID</th>\n",
       "    </tr>\n",
       "  </thead>\n",
       "  <tbody>\n",
       "    <tr>\n",
       "      <th>0</th>\n",
       "      <td>TD-2532-BCSA1</td>\n",
       "      <td>BCSA1</td>\n",
       "      <td>TumA1</td>\n",
       "      <td>V19T26-012_A1</td>\n",
       "      <td>200116_ST-AR_BC_A_B_V19T26-012_KT_V1-Spot00000...</td>\n",
       "      <td>a1.012</td>\n",
       "      <td>TNBC</td>\n",
       "      <td>BCSA1TumA1</td>\n",
       "    </tr>\n",
       "    <tr>\n",
       "      <th>1</th>\n",
       "      <td>TD-2532-BCSA1</td>\n",
       "      <td>BCSA1</td>\n",
       "      <td>TumA2</td>\n",
       "      <td>V19T26-012_B1</td>\n",
       "      <td>200116_ST-AR_BC_A_B_V19T26-012_KT_V2-Spot00000...</td>\n",
       "      <td>b1.012</td>\n",
       "      <td>TNBC</td>\n",
       "      <td>BCSA1TumA2</td>\n",
       "    </tr>\n",
       "    <tr>\n",
       "      <th>2</th>\n",
       "      <td>TD-2532-BCSA1</td>\n",
       "      <td>BCSA1</td>\n",
       "      <td>TumB1</td>\n",
       "      <td>V19T26-012_C1</td>\n",
       "      <td>200116_ST-AR_BC_A_B_V19T26-012_KT_V3-Spot00000...</td>\n",
       "      <td>c1.012</td>\n",
       "      <td>TNBC</td>\n",
       "      <td>BCSA1TumB1</td>\n",
       "    </tr>\n",
       "    <tr>\n",
       "      <th>3</th>\n",
       "      <td>TD-2532-BCSA1</td>\n",
       "      <td>BCSA1</td>\n",
       "      <td>TumB2</td>\n",
       "      <td>V19T26-012_D1</td>\n",
       "      <td>200116_ST-AR_BC_A_B_V19T26-012_KT_V4-Spot00000...</td>\n",
       "      <td>d1.012</td>\n",
       "      <td>TNBC</td>\n",
       "      <td>BCSA1TumB2</td>\n",
       "    </tr>\n",
       "    <tr>\n",
       "      <th>4</th>\n",
       "      <td>TD-2532-BCSA2</td>\n",
       "      <td>BCSA2</td>\n",
       "      <td>TumB1</td>\n",
       "      <td>V10F24-112_C1</td>\n",
       "      <td>200616_BC-SA2_V10F24-112_KT.C1-Spot000001.h5ad</td>\n",
       "      <td>c1.112</td>\n",
       "      <td>HER2+</td>\n",
       "      <td>BCSA2TumB1</td>\n",
       "    </tr>\n",
       "    <tr>\n",
       "      <th>5</th>\n",
       "      <td>TD-2532-BCSA2</td>\n",
       "      <td>BCSA2</td>\n",
       "      <td>TumB2</td>\n",
       "      <td>V10F24-112_D1</td>\n",
       "      <td>200616_BC-SA2_V10F24-112_KT.D1-Spot000001.h5ad</td>\n",
       "      <td>d1.112</td>\n",
       "      <td>HER2+</td>\n",
       "      <td>BCSA2TumB2</td>\n",
       "    </tr>\n",
       "    <tr>\n",
       "      <th>6</th>\n",
       "      <td>TD-2532-BCSA2</td>\n",
       "      <td>BCSA2</td>\n",
       "      <td>TumC1</td>\n",
       "      <td>V10F24-113_A1</td>\n",
       "      <td>200715_BC_SA2_C_D_V10F24-113.A1-Spot000001.h5ad</td>\n",
       "      <td>a1.113</td>\n",
       "      <td>HER2+</td>\n",
       "      <td>BCSA2TumC1</td>\n",
       "    </tr>\n",
       "    <tr>\n",
       "      <th>7</th>\n",
       "      <td>TD-2532-BCSA2</td>\n",
       "      <td>BCSA2</td>\n",
       "      <td>TumC2</td>\n",
       "      <td>V10F24-113_B1</td>\n",
       "      <td>200715_BC_SA2_C_D_V10F24-113.B1-Spot000001.h5ad</td>\n",
       "      <td>b1.113</td>\n",
       "      <td>HER2+</td>\n",
       "      <td>BCSA2TumC2</td>\n",
       "    </tr>\n",
       "    <tr>\n",
       "      <th>8</th>\n",
       "      <td>TD-2532-BCSA2</td>\n",
       "      <td>BCSA2</td>\n",
       "      <td>TumD1</td>\n",
       "      <td>V10F24-113_C1</td>\n",
       "      <td>200715_BC_SA2_C_D_V10F24-113.C1-Spot000001.h5ad</td>\n",
       "      <td>c1.113</td>\n",
       "      <td>HER2+</td>\n",
       "      <td>BCSA2TumD1</td>\n",
       "    </tr>\n",
       "    <tr>\n",
       "      <th>9</th>\n",
       "      <td>TD-2532-BCSA2</td>\n",
       "      <td>BCSA2</td>\n",
       "      <td>TumD2</td>\n",
       "      <td>V10F24-113_D1</td>\n",
       "      <td>200715_BC_SA2_C_D_V10F24-113.D1-Spot000001.h5ad</td>\n",
       "      <td>d1.113</td>\n",
       "      <td>HER2+</td>\n",
       "      <td>BCSA2TumD2</td>\n",
       "    </tr>\n",
       "    <tr>\n",
       "      <th>10</th>\n",
       "      <td>TD-2532-BCSA2</td>\n",
       "      <td>BCSA2</td>\n",
       "      <td>TumE1</td>\n",
       "      <td>V10F24-114_C1</td>\n",
       "      <td>200715_BC_SA2_D_E_V10F24-114.C1-Spot000001.h5ad</td>\n",
       "      <td>c1.114</td>\n",
       "      <td>HER2+</td>\n",
       "      <td>BCSA2TumE1</td>\n",
       "    </tr>\n",
       "    <tr>\n",
       "      <th>11</th>\n",
       "      <td>TD-2532-BCSA2</td>\n",
       "      <td>BCSA2</td>\n",
       "      <td>TumE2</td>\n",
       "      <td>V10F24-114_D1</td>\n",
       "      <td>200715_BC_SA2_D_E_V10F24-114.D1-Spot000001.h5ad</td>\n",
       "      <td>d1.114</td>\n",
       "      <td>HER2+</td>\n",
       "      <td>BCSA2TumE2</td>\n",
       "    </tr>\n",
       "    <tr>\n",
       "      <th>12</th>\n",
       "      <td>TD-2532-BCSA3</td>\n",
       "      <td>BCSA3</td>\n",
       "      <td>TumA1</td>\n",
       "      <td>V19T26-031_D1</td>\n",
       "      <td>200219_BC_SA3_V19T26-031_CE_V4-Spot000001.h5ad</td>\n",
       "      <td>d1.031</td>\n",
       "      <td>HER2+</td>\n",
       "      <td>BCSA3TumA1</td>\n",
       "    </tr>\n",
       "    <tr>\n",
       "      <th>13</th>\n",
       "      <td>TD-2532-BCSA3</td>\n",
       "      <td>BCSA3</td>\n",
       "      <td>TumA2</td>\n",
       "      <td>V19T26-031_C1</td>\n",
       "      <td>200219_BC_SA3_V19T26-031_CE_V3-Spot000001.h5ad</td>\n",
       "      <td>c1.031</td>\n",
       "      <td>HER2+</td>\n",
       "      <td>BCSA3TumA2</td>\n",
       "    </tr>\n",
       "    <tr>\n",
       "      <th>14</th>\n",
       "      <td>TD-2532-BCSA3</td>\n",
       "      <td>BCSA3</td>\n",
       "      <td>TumB1</td>\n",
       "      <td>V19T26-031_B1</td>\n",
       "      <td>200219_BC_SA3_V19T26-031_CE_V2-Spot000001.h5ad</td>\n",
       "      <td>b1.031</td>\n",
       "      <td>HER2+</td>\n",
       "      <td>BCSA3TumB1</td>\n",
       "    </tr>\n",
       "    <tr>\n",
       "      <th>15</th>\n",
       "      <td>TD-2532-BCSA3</td>\n",
       "      <td>BCSA3</td>\n",
       "      <td>TumB2</td>\n",
       "      <td>V19T26-031_A1</td>\n",
       "      <td>200219_BC_SA3_V19T26-031_CE_V1-Spot000001.h5ad</td>\n",
       "      <td>a1.031</td>\n",
       "      <td>HER2+</td>\n",
       "      <td>BCSA3TumB2</td>\n",
       "    </tr>\n",
       "    <tr>\n",
       "      <th>16</th>\n",
       "      <td>TD-2532-BCSA3</td>\n",
       "      <td>BCSA3</td>\n",
       "      <td>TumC1</td>\n",
       "      <td>V19T26-032_D1</td>\n",
       "      <td>200221_BC_SA3_C-D_V19T26-032_CE_V4-Spot000001....</td>\n",
       "      <td>d1.032</td>\n",
       "      <td>HER2+</td>\n",
       "      <td>BCSA3TumC1</td>\n",
       "    </tr>\n",
       "    <tr>\n",
       "      <th>17</th>\n",
       "      <td>TD-2532-BCSA3</td>\n",
       "      <td>BCSA3</td>\n",
       "      <td>TumC2</td>\n",
       "      <td>V19T26-032_C1</td>\n",
       "      <td>200221_BC_SA3_C-D_V19T26-032_CE_V3-Spot000001....</td>\n",
       "      <td>c1.032</td>\n",
       "      <td>HER2+</td>\n",
       "      <td>BCSA3TumC2</td>\n",
       "    </tr>\n",
       "    <tr>\n",
       "      <th>18</th>\n",
       "      <td>TD-2532-BCSA3</td>\n",
       "      <td>BCSA3</td>\n",
       "      <td>TumD1</td>\n",
       "      <td>V19T26-032_B1</td>\n",
       "      <td>200221_BC_SA3_C-D_V19T26-032_CE_V2-Spot000001....</td>\n",
       "      <td>b1.032</td>\n",
       "      <td>HER2+</td>\n",
       "      <td>BCSA3TumD1</td>\n",
       "    </tr>\n",
       "    <tr>\n",
       "      <th>19</th>\n",
       "      <td>TD-2532-BCSA3</td>\n",
       "      <td>BCSA3</td>\n",
       "      <td>TumD2</td>\n",
       "      <td>V19T26-032_A1</td>\n",
       "      <td>200221_BC_SA3_C-D_V19T26-032_CE_V1-Spot000001....</td>\n",
       "      <td>a1.032</td>\n",
       "      <td>HER2+</td>\n",
       "      <td>BCSA3TumD2</td>\n",
       "    </tr>\n",
       "    <tr>\n",
       "      <th>20</th>\n",
       "      <td>TD-2532-BCSA2</td>\n",
       "      <td>BCSA2</td>\n",
       "      <td>TumD3</td>\n",
       "      <td>V10F24-114_A1</td>\n",
       "      <td>200715_BC_SA2_D_E_V10F24-114.A1-Spot000001.h5ad</td>\n",
       "      <td>a1.114</td>\n",
       "      <td>HER2+</td>\n",
       "      <td>BCSA2TumD3</td>\n",
       "    </tr>\n",
       "    <tr>\n",
       "      <th>21</th>\n",
       "      <td>TD-2532-BCSA2</td>\n",
       "      <td>BCSA2</td>\n",
       "      <td>TumD4</td>\n",
       "      <td>V10F24-114_B1</td>\n",
       "      <td>200715_BC_SA2_D_E_V10F24-114.B1-Spot000001.h5ad</td>\n",
       "      <td>b1.114</td>\n",
       "      <td>HER2+</td>\n",
       "      <td>BCSA2TumD4</td>\n",
       "    </tr>\n",
       "    <tr>\n",
       "      <th>22</th>\n",
       "      <td>TD-2532-BCSA4</td>\n",
       "      <td>BCSA4</td>\n",
       "      <td>TumA1</td>\n",
       "      <td>V10B01-135_A1</td>\n",
       "      <td>220302_sATAC_OMNI_V10B01-135_NB.A1-Spot000001....</td>\n",
       "      <td>a1.135</td>\n",
       "      <td>HER2+</td>\n",
       "      <td>BCSA4TumA1</td>\n",
       "    </tr>\n",
       "  </tbody>\n",
       "</table>\n",
       "</div>"
      ],
      "text/plain": [
       "          Patient Patientid Tumor area      Visium ID  \\\n",
       "0   TD-2532-BCSA1     BCSA1      TumA1  V19T26-012_A1   \n",
       "1   TD-2532-BCSA1     BCSA1      TumA2  V19T26-012_B1   \n",
       "2   TD-2532-BCSA1     BCSA1      TumB1  V19T26-012_C1   \n",
       "3   TD-2532-BCSA1     BCSA1      TumB2  V19T26-012_D1   \n",
       "4   TD-2532-BCSA2     BCSA2      TumB1  V10F24-112_C1   \n",
       "5   TD-2532-BCSA2     BCSA2      TumB2  V10F24-112_D1   \n",
       "6   TD-2532-BCSA2     BCSA2      TumC1  V10F24-113_A1   \n",
       "7   TD-2532-BCSA2     BCSA2      TumC2  V10F24-113_B1   \n",
       "8   TD-2532-BCSA2     BCSA2      TumD1  V10F24-113_C1   \n",
       "9   TD-2532-BCSA2     BCSA2      TumD2  V10F24-113_D1   \n",
       "10  TD-2532-BCSA2     BCSA2      TumE1  V10F24-114_C1   \n",
       "11  TD-2532-BCSA2     BCSA2      TumE2  V10F24-114_D1   \n",
       "12  TD-2532-BCSA3     BCSA3      TumA1  V19T26-031_D1   \n",
       "13  TD-2532-BCSA3     BCSA3      TumA2  V19T26-031_C1   \n",
       "14  TD-2532-BCSA3     BCSA3      TumB1  V19T26-031_B1   \n",
       "15  TD-2532-BCSA3     BCSA3      TumB2  V19T26-031_A1   \n",
       "16  TD-2532-BCSA3     BCSA3      TumC1  V19T26-032_D1   \n",
       "17  TD-2532-BCSA3     BCSA3      TumC2  V19T26-032_C1   \n",
       "18  TD-2532-BCSA3     BCSA3      TumD1  V19T26-032_B1   \n",
       "19  TD-2532-BCSA3     BCSA3      TumD2  V19T26-032_A1   \n",
       "20  TD-2532-BCSA2     BCSA2      TumD3  V10F24-114_A1   \n",
       "21  TD-2532-BCSA2     BCSA2      TumD4  V10F24-114_B1   \n",
       "22  TD-2532-BCSA4     BCSA4      TumA1  V10B01-135_A1   \n",
       "\n",
       "                                        Visum h5ad ID    name   type  \\\n",
       "0   200116_ST-AR_BC_A_B_V19T26-012_KT_V1-Spot00000...  a1.012   TNBC   \n",
       "1   200116_ST-AR_BC_A_B_V19T26-012_KT_V2-Spot00000...  b1.012   TNBC   \n",
       "2   200116_ST-AR_BC_A_B_V19T26-012_KT_V3-Spot00000...  c1.012   TNBC   \n",
       "3   200116_ST-AR_BC_A_B_V19T26-012_KT_V4-Spot00000...  d1.012   TNBC   \n",
       "4      200616_BC-SA2_V10F24-112_KT.C1-Spot000001.h5ad  c1.112  HER2+   \n",
       "5      200616_BC-SA2_V10F24-112_KT.D1-Spot000001.h5ad  d1.112  HER2+   \n",
       "6     200715_BC_SA2_C_D_V10F24-113.A1-Spot000001.h5ad  a1.113  HER2+   \n",
       "7     200715_BC_SA2_C_D_V10F24-113.B1-Spot000001.h5ad  b1.113  HER2+   \n",
       "8     200715_BC_SA2_C_D_V10F24-113.C1-Spot000001.h5ad  c1.113  HER2+   \n",
       "9     200715_BC_SA2_C_D_V10F24-113.D1-Spot000001.h5ad  d1.113  HER2+   \n",
       "10    200715_BC_SA2_D_E_V10F24-114.C1-Spot000001.h5ad  c1.114  HER2+   \n",
       "11    200715_BC_SA2_D_E_V10F24-114.D1-Spot000001.h5ad  d1.114  HER2+   \n",
       "12     200219_BC_SA3_V19T26-031_CE_V4-Spot000001.h5ad  d1.031  HER2+   \n",
       "13     200219_BC_SA3_V19T26-031_CE_V3-Spot000001.h5ad  c1.031  HER2+   \n",
       "14     200219_BC_SA3_V19T26-031_CE_V2-Spot000001.h5ad  b1.031  HER2+   \n",
       "15     200219_BC_SA3_V19T26-031_CE_V1-Spot000001.h5ad  a1.031  HER2+   \n",
       "16  200221_BC_SA3_C-D_V19T26-032_CE_V4-Spot000001....  d1.032  HER2+   \n",
       "17  200221_BC_SA3_C-D_V19T26-032_CE_V3-Spot000001....  c1.032  HER2+   \n",
       "18  200221_BC_SA3_C-D_V19T26-032_CE_V2-Spot000001....  b1.032  HER2+   \n",
       "19  200221_BC_SA3_C-D_V19T26-032_CE_V1-Spot000001....  a1.032  HER2+   \n",
       "20    200715_BC_SA2_D_E_V10F24-114.A1-Spot000001.h5ad  a1.114  HER2+   \n",
       "21    200715_BC_SA2_D_E_V10F24-114.B1-Spot000001.h5ad  b1.114  HER2+   \n",
       "22  220302_sATAC_OMNI_V10B01-135_NB.A1-Spot000001....  a1.135  HER2+   \n",
       "\n",
       "      sampleID  \n",
       "0   BCSA1TumA1  \n",
       "1   BCSA1TumA2  \n",
       "2   BCSA1TumB1  \n",
       "3   BCSA1TumB2  \n",
       "4   BCSA2TumB1  \n",
       "5   BCSA2TumB2  \n",
       "6   BCSA2TumC1  \n",
       "7   BCSA2TumC2  \n",
       "8   BCSA2TumD1  \n",
       "9   BCSA2TumD2  \n",
       "10  BCSA2TumE1  \n",
       "11  BCSA2TumE2  \n",
       "12  BCSA3TumA1  \n",
       "13  BCSA3TumA2  \n",
       "14  BCSA3TumB1  \n",
       "15  BCSA3TumB2  \n",
       "16  BCSA3TumC1  \n",
       "17  BCSA3TumC2  \n",
       "18  BCSA3TumD1  \n",
       "19  BCSA3TumD2  \n",
       "20  BCSA2TumD3  \n",
       "21  BCSA2TumD4  \n",
       "22  BCSA4TumA1  "
      ]
     },
     "execution_count": 6,
     "metadata": {},
     "output_type": "execute_result"
    }
   ],
   "source": [
    "# Load metadata\n",
    "import pandas as pd\n",
    "info = pd.read_csv('/Users/tili/Desktop/CIIR/data/ST-AR_Visium_samples_with file names.csv')\n",
    "\n",
    "# Get sample ID\n",
    "info['sampleID'] = info['Patientid'] + info['Tumor area']\n",
    "info"
   ]
  },
  {
   "cell_type": "code",
   "execution_count": 7,
   "id": "a0018507-7c19-490f-a724-346ad8fff8a3",
   "metadata": {},
   "outputs": [
    {
     "data": {
      "text/html": [
       "<div>\n",
       "<style scoped>\n",
       "    .dataframe tbody tr th:only-of-type {\n",
       "        vertical-align: middle;\n",
       "    }\n",
       "\n",
       "    .dataframe tbody tr th {\n",
       "        vertical-align: top;\n",
       "    }\n",
       "\n",
       "    .dataframe thead th {\n",
       "        text-align: right;\n",
       "    }\n",
       "</style>\n",
       "<table border=\"1\" class=\"dataframe\">\n",
       "  <thead>\n",
       "    <tr style=\"text-align: right;\">\n",
       "      <th></th>\n",
       "      <th>Patient</th>\n",
       "      <th>Patientid</th>\n",
       "      <th>Tumor area</th>\n",
       "      <th>Visium ID</th>\n",
       "      <th>Visum h5ad ID</th>\n",
       "      <th>name</th>\n",
       "      <th>type</th>\n",
       "      <th>sampleID</th>\n",
       "    </tr>\n",
       "  </thead>\n",
       "  <tbody>\n",
       "    <tr>\n",
       "      <th>0</th>\n",
       "      <td>TD-2532-BCSA1</td>\n",
       "      <td>BCSA1</td>\n",
       "      <td>TumA1</td>\n",
       "      <td>V19T26-012_A1</td>\n",
       "      <td>200116_ST-AR_BC_A_B_V19T26-012_KT_V1-Spot00000...</td>\n",
       "      <td>a1.012</td>\n",
       "      <td>TNBC</td>\n",
       "      <td>BCSA1TumA1</td>\n",
       "    </tr>\n",
       "    <tr>\n",
       "      <th>4</th>\n",
       "      <td>TD-2532-BCSA2</td>\n",
       "      <td>BCSA2</td>\n",
       "      <td>TumB1</td>\n",
       "      <td>V10F24-112_C1</td>\n",
       "      <td>200616_BC-SA2_V10F24-112_KT.C1-Spot000001.h5ad</td>\n",
       "      <td>c1.112</td>\n",
       "      <td>HER2+</td>\n",
       "      <td>BCSA2TumB1</td>\n",
       "    </tr>\n",
       "  </tbody>\n",
       "</table>\n",
       "</div>"
      ],
      "text/plain": [
       "         Patient Patientid Tumor area      Visium ID  \\\n",
       "0  TD-2532-BCSA1     BCSA1      TumA1  V19T26-012_A1   \n",
       "4  TD-2532-BCSA2     BCSA2      TumB1  V10F24-112_C1   \n",
       "\n",
       "                                       Visum h5ad ID    name   type  \\\n",
       "0  200116_ST-AR_BC_A_B_V19T26-012_KT_V1-Spot00000...  a1.012   TNBC   \n",
       "4     200616_BC-SA2_V10F24-112_KT.C1-Spot000001.h5ad  c1.112  HER2+   \n",
       "\n",
       "     sampleID  \n",
       "0  BCSA1TumA1  \n",
       "4  BCSA2TumB1  "
      ]
     },
     "execution_count": 7,
     "metadata": {},
     "output_type": "execute_result"
    }
   ],
   "source": [
    "# Select one sample from each subtype to train the reference map\n",
    "info1 = info.iloc[[0,4]]\n",
    "info1"
   ]
  },
  {
   "cell_type": "code",
   "execution_count": 8,
   "id": "48b03326-66b3-4bef-adde-45792f1692ee",
   "metadata": {},
   "outputs": [
    {
     "name": "stderr",
     "output_type": "stream",
     "text": [
      "/Users/tili/miniconda3/envs/cell2loc_env/lib/python3.9/site-packages/pandas/core/arraylike.py:399: RuntimeWarning: divide by zero encountered in log10\n",
      "  result = getattr(ufunc, method)(*inputs, **kwargs)\n"
     ]
    },
    {
     "data": {
      "image/png": "[encoded data removed]",
      "text/plain": [
       "<Figure size 640x480 with 1 Axes>"
      ]
     },
     "metadata": {},
     "output_type": "display_data"
    },
    {
     "name": "stderr",
     "output_type": "stream",
     "text": [
      "GPU available: True (mps), used: False\n",
      "TPU available: False, using: 0 TPU cores\n",
      "IPU available: False, using: 0 IPUs\n",
      "HPU available: False, using: 0 HPUs\n",
      "/Users/tili/miniconda3/envs/cell2loc_env/lib/python3.9/site-packages/lightning/pytorch/trainer/setup.py:187: GPU available but not used. You can set it by doing `Trainer(accelerator='gpu')`.\n",
      "/Users/tili/miniconda3/envs/cell2loc_env/lib/python3.9/site-packages/lightning/pytorch/trainer/configuration_validator.py:72: You passed in a `val_dataloader` but have no `validation_step`. Skipping val loop.\n",
      "/Users/tili/miniconda3/envs/cell2loc_env/lib/python3.9/site-packages/lightning/pytorch/trainer/connectors/data_connector.py:441: The 'train_dataloader' does not have many workers which may be a bottleneck. Consider increasing the value of the `num_workers` argument` to `num_workers=23` in the `DataLoader` to improve performance.\n",
      "/Users/tili/miniconda3/envs/cell2loc_env/lib/python3.9/site-packages/lightning/pytorch/loops/fit_loop.py:293: The number of training batches (8) is smaller than the logging interval Trainer(log_every_n_steps=10). Set a lower value for log_every_n_steps if you want to see logs for the training epoch.\n"
     ]
    },
    {
     "name": "stdout",
     "output_type": "stream",
     "text": [
      "Epoch 250/250: 100%|█| 250/250 [15:05<00:00,  3.61s/it, v_num=1, elbo_train=1.02"
     ]
    },
    {
     "name": "stderr",
     "output_type": "stream",
     "text": [
      "`Trainer.fit` stopped: `max_epochs=250` reached.\n"
     ]
    },
    {
     "name": "stdout",
     "output_type": "stream",
     "text": [
      "Epoch 250/250: 100%|█| 250/250 [15:05<00:00,  3.62s/it, v_num=1, elbo_train=1.02\n",
      "Sampling local variables, batch:   0%|                    | 0/8 [00:00<?, ?it/s]\n",
      "Sampling global variables, sample: 100%|██████| 999/999 [00:47<00:00, 21.17it/s]\n"
     ]
    },
    {
     "name": "stderr",
     "output_type": "stream",
     "text": [
      "/Users/tili/miniconda3/envs/cell2loc_env/lib/python3.9/site-packages/pandas/core/arraylike.py:399: RuntimeWarning: divide by zero encountered in log10\n",
      "  result = getattr(ufunc, method)(*inputs, **kwargs)\n"
     ]
    },
    {
     "data": {
      "image/png": "[encoded data removed]",
      "text/plain": [
       "<Figure size 640x480 with 1 Axes>"
      ]
     },
     "metadata": {},
     "output_type": "display_data"
    },
    {
     "name": "stderr",
     "output_type": "stream",
     "text": [
      "GPU available: True (mps), used: False\n",
      "TPU available: False, using: 0 TPU cores\n",
      "IPU available: False, using: 0 IPUs\n",
      "HPU available: False, using: 0 HPUs\n",
      "/Users/tili/miniconda3/envs/cell2loc_env/lib/python3.9/site-packages/lightning/pytorch/trainer/setup.py:187: GPU available but not used. You can set it by doing `Trainer(accelerator='gpu')`.\n",
      "/Users/tili/miniconda3/envs/cell2loc_env/lib/python3.9/site-packages/lightning/pytorch/trainer/configuration_validator.py:72: You passed in a `val_dataloader` but have no `validation_step`. Skipping val loop.\n",
      "/Users/tili/miniconda3/envs/cell2loc_env/lib/python3.9/site-packages/lightning/pytorch/trainer/connectors/data_connector.py:441: The 'train_dataloader' does not have many workers which may be a bottleneck. Consider increasing the value of the `num_workers` argument` to `num_workers=23` in the `DataLoader` to improve performance.\n",
      "/Users/tili/miniconda3/envs/cell2loc_env/lib/python3.9/site-packages/lightning/pytorch/loops/fit_loop.py:293: The number of training batches (5) is smaller than the logging interval Trainer(log_every_n_steps=10). Set a lower value for log_every_n_steps if you want to see logs for the training epoch.\n"
     ]
    },
    {
     "name": "stdout",
     "output_type": "stream",
     "text": [
      "Epoch 250/250: 100%|█| 250/250 [09:41<00:00,  2.34s/it, v_num=1, elbo_train=7.03"
     ]
    },
    {
     "name": "stderr",
     "output_type": "stream",
     "text": [
      "`Trainer.fit` stopped: `max_epochs=250` reached.\n"
     ]
    },
    {
     "name": "stdout",
     "output_type": "stream",
     "text": [
      "Epoch 250/250: 100%|█| 250/250 [09:41<00:00,  2.33s/it, v_num=1, elbo_train=7.03\n",
      "Sampling local variables, batch:   0%|                    | 0/5 [00:00<?, ?it/s]\n",
      "Sampling global variables, sample: 100%|██████| 999/999 [00:49<00:00, 20.24it/s]\n"
     ]
    }
   ],
   "source": [
    "# Create and Save reference map\n",
    "for row in info1.iterrows():\n",
    "    id = row[1]['sampleID']\n",
    "    Type = row[1]['type']\n",
    "    if (Type == \"TNBC\"):\n",
    "        # Read single cell reference data\n",
    "        adata_ref = sc.read(\n",
    "            f'/Users/tili/Desktop/CIIR/data/Wu_etal_2021_BRCA_scRNASeq/cell2location/tnbc.h5ad')\n",
    "    else:\n",
    "        adata_ref = sc.read(\n",
    "            f'/Users/tili/Desktop/CIIR/data/Wu_etal_2021_BRCA_scRNASeq/cell2location/her2.h5ad')\n",
    "\n",
    "    # Before we estimate the reference cell type signature we recommend to perform very permissive genes selection. \n",
    "    # We prefer this to standard highly-variable-gene selection because our procedure keeps markers of rare genes \n",
    "    # while removing most of the uninformative genes.\n",
    "    from cell2location.utils.filtering import filter_genes\n",
    "    selected = filter_genes(adata_ref, cell_count_cutoff=5, cell_percentage_cutoff2=0.03, nonz_mean_cutoff=1.12)\n",
    "\n",
    "    # filter the object\n",
    "    adata_ref = adata_ref[:, selected].copy()\n",
    "\n",
    "    # Estimation of reference cell type signatures (NB regression) \n",
    "    # The signatures are estimated from scRNA-seq data, accounting for batch effect, using a Negative binomial regression model.\n",
    "    # prepare anndata for the regression model\n",
    "    cell2location.models.RegressionModel.setup_anndata(adata=adata_ref, \n",
    "                        # 10X reaction / sample / batch\n",
    "                        batch_key='orig.ident', \n",
    "                        # cell type, covariate used for constructing signatures\n",
    "                        labels_key='celltype_minor'\n",
    "                       )\n",
    "\n",
    "    # create the regression model\n",
    "    from cell2location.models import RegressionModel\n",
    "    mod = RegressionModel(adata_ref) \n",
    "\n",
    "    # Training model.\n",
    "    # Now we train the model to estimate the reference cell type signatures.\n",
    "    # Note that to achieve convergence on your data (=to get stabilization of the loss) you may need to increase max_epochs=250 (See below).\n",
    "    # Also note that here we are using batch_size=2500 which is much larger than scvi-tools default and perform training on all cells \n",
    "    # in the data (train_size=1) - both parameters are defaults.\n",
    "    mod.train(max_epochs=250)\n",
    "\n",
    "    # In this section, we export the estimated cell abundance (summary of the posterior distribution).\n",
    "    adata_ref = mod.export_posterior(\n",
    "        adata_ref, sample_kwargs={'num_samples': 1000, 'batch_size': 2500}\n",
    "    )\n",
    "\n",
    "    if (Type == \"TNBC\"):\n",
    "        adata_ref_tnbc = adata_ref\n",
    "    else:\n",
    "        adata_ref_her2 = adata_ref\n"
   ]
  },
  {
   "cell_type": "code",
   "execution_count": 11,
   "id": "481d882c-2025-4112-a21f-f4760205568b",
   "metadata": {},
   "outputs": [
    {
     "data": {
      "text/html": [
       "<div>\n",
       "<style scoped>\n",
       "    .dataframe tbody tr th:only-of-type {\n",
       "        vertical-align: middle;\n",
       "    }\n",
       "\n",
       "    .dataframe tbody tr th {\n",
       "        vertical-align: top;\n",
       "    }\n",
       "\n",
       "    .dataframe thead th {\n",
       "        text-align: right;\n",
       "    }\n",
       "</style>\n",
       "<table border=\"1\" class=\"dataframe\">\n",
       "  <thead>\n",
       "    <tr style=\"text-align: right;\">\n",
       "      <th></th>\n",
       "      <th>Patient</th>\n",
       "      <th>Patientid</th>\n",
       "      <th>Tumor area</th>\n",
       "      <th>Visium ID</th>\n",
       "      <th>Visum h5ad ID</th>\n",
       "      <th>name</th>\n",
       "      <th>type</th>\n",
       "      <th>sampleID</th>\n",
       "    </tr>\n",
       "  </thead>\n",
       "  <tbody>\n",
       "    <tr>\n",
       "      <th>4</th>\n",
       "      <td>TD-2532-BCSA2</td>\n",
       "      <td>BCSA2</td>\n",
       "      <td>TumB1</td>\n",
       "      <td>V10F24-112_C1</td>\n",
       "      <td>200616_BC-SA2_V10F24-112_KT.C1-Spot000001.h5ad</td>\n",
       "      <td>c1.112</td>\n",
       "      <td>HER2+</td>\n",
       "      <td>BCSA2TumB1</td>\n",
       "    </tr>\n",
       "    <tr>\n",
       "      <th>5</th>\n",
       "      <td>TD-2532-BCSA2</td>\n",
       "      <td>BCSA2</td>\n",
       "      <td>TumB2</td>\n",
       "      <td>V10F24-112_D1</td>\n",
       "      <td>200616_BC-SA2_V10F24-112_KT.D1-Spot000001.h5ad</td>\n",
       "      <td>d1.112</td>\n",
       "      <td>HER2+</td>\n",
       "      <td>BCSA2TumB2</td>\n",
       "    </tr>\n",
       "    <tr>\n",
       "      <th>6</th>\n",
       "      <td>TD-2532-BCSA2</td>\n",
       "      <td>BCSA2</td>\n",
       "      <td>TumC1</td>\n",
       "      <td>V10F24-113_A1</td>\n",
       "      <td>200715_BC_SA2_C_D_V10F24-113.A1-Spot000001.h5ad</td>\n",
       "      <td>a1.113</td>\n",
       "      <td>HER2+</td>\n",
       "      <td>BCSA2TumC1</td>\n",
       "    </tr>\n",
       "    <tr>\n",
       "      <th>7</th>\n",
       "      <td>TD-2532-BCSA2</td>\n",
       "      <td>BCSA2</td>\n",
       "      <td>TumC2</td>\n",
       "      <td>V10F24-113_B1</td>\n",
       "      <td>200715_BC_SA2_C_D_V10F24-113.B1-Spot000001.h5ad</td>\n",
       "      <td>b1.113</td>\n",
       "      <td>HER2+</td>\n",
       "      <td>BCSA2TumC2</td>\n",
       "    </tr>\n",
       "    <tr>\n",
       "      <th>8</th>\n",
       "      <td>TD-2532-BCSA2</td>\n",
       "      <td>BCSA2</td>\n",
       "      <td>TumD1</td>\n",
       "      <td>V10F24-113_C1</td>\n",
       "      <td>200715_BC_SA2_C_D_V10F24-113.C1-Spot000001.h5ad</td>\n",
       "      <td>c1.113</td>\n",
       "      <td>HER2+</td>\n",
       "      <td>BCSA2TumD1</td>\n",
       "    </tr>\n",
       "    <tr>\n",
       "      <th>9</th>\n",
       "      <td>TD-2532-BCSA2</td>\n",
       "      <td>BCSA2</td>\n",
       "      <td>TumD2</td>\n",
       "      <td>V10F24-113_D1</td>\n",
       "      <td>200715_BC_SA2_C_D_V10F24-113.D1-Spot000001.h5ad</td>\n",
       "      <td>d1.113</td>\n",
       "      <td>HER2+</td>\n",
       "      <td>BCSA2TumD2</td>\n",
       "    </tr>\n",
       "    <tr>\n",
       "      <th>10</th>\n",
       "      <td>TD-2532-BCSA2</td>\n",
       "      <td>BCSA2</td>\n",
       "      <td>TumE1</td>\n",
       "      <td>V10F24-114_C1</td>\n",
       "      <td>200715_BC_SA2_D_E_V10F24-114.C1-Spot000001.h5ad</td>\n",
       "      <td>c1.114</td>\n",
       "      <td>HER2+</td>\n",
       "      <td>BCSA2TumE1</td>\n",
       "    </tr>\n",
       "    <tr>\n",
       "      <th>11</th>\n",
       "      <td>TD-2532-BCSA2</td>\n",
       "      <td>BCSA2</td>\n",
       "      <td>TumE2</td>\n",
       "      <td>V10F24-114_D1</td>\n",
       "      <td>200715_BC_SA2_D_E_V10F24-114.D1-Spot000001.h5ad</td>\n",
       "      <td>d1.114</td>\n",
       "      <td>HER2+</td>\n",
       "      <td>BCSA2TumE2</td>\n",
       "    </tr>\n",
       "    <tr>\n",
       "      <th>12</th>\n",
       "      <td>TD-2532-BCSA3</td>\n",
       "      <td>BCSA3</td>\n",
       "      <td>TumA1</td>\n",
       "      <td>V19T26-031_D1</td>\n",
       "      <td>200219_BC_SA3_V19T26-031_CE_V4-Spot000001.h5ad</td>\n",
       "      <td>d1.031</td>\n",
       "      <td>HER2+</td>\n",
       "      <td>BCSA3TumA1</td>\n",
       "    </tr>\n",
       "    <tr>\n",
       "      <th>13</th>\n",
       "      <td>TD-2532-BCSA3</td>\n",
       "      <td>BCSA3</td>\n",
       "      <td>TumA2</td>\n",
       "      <td>V19T26-031_C1</td>\n",
       "      <td>200219_BC_SA3_V19T26-031_CE_V3-Spot000001.h5ad</td>\n",
       "      <td>c1.031</td>\n",
       "      <td>HER2+</td>\n",
       "      <td>BCSA3TumA2</td>\n",
       "    </tr>\n",
       "    <tr>\n",
       "      <th>14</th>\n",
       "      <td>TD-2532-BCSA3</td>\n",
       "      <td>BCSA3</td>\n",
       "      <td>TumB1</td>\n",
       "      <td>V19T26-031_B1</td>\n",
       "      <td>200219_BC_SA3_V19T26-031_CE_V2-Spot000001.h5ad</td>\n",
       "      <td>b1.031</td>\n",
       "      <td>HER2+</td>\n",
       "      <td>BCSA3TumB1</td>\n",
       "    </tr>\n",
       "    <tr>\n",
       "      <th>15</th>\n",
       "      <td>TD-2532-BCSA3</td>\n",
       "      <td>BCSA3</td>\n",
       "      <td>TumB2</td>\n",
       "      <td>V19T26-031_A1</td>\n",
       "      <td>200219_BC_SA3_V19T26-031_CE_V1-Spot000001.h5ad</td>\n",
       "      <td>a1.031</td>\n",
       "      <td>HER2+</td>\n",
       "      <td>BCSA3TumB2</td>\n",
       "    </tr>\n",
       "    <tr>\n",
       "      <th>16</th>\n",
       "      <td>TD-2532-BCSA3</td>\n",
       "      <td>BCSA3</td>\n",
       "      <td>TumC1</td>\n",
       "      <td>V19T26-032_D1</td>\n",
       "      <td>200221_BC_SA3_C-D_V19T26-032_CE_V4-Spot000001....</td>\n",
       "      <td>d1.032</td>\n",
       "      <td>HER2+</td>\n",
       "      <td>BCSA3TumC1</td>\n",
       "    </tr>\n",
       "    <tr>\n",
       "      <th>17</th>\n",
       "      <td>TD-2532-BCSA3</td>\n",
       "      <td>BCSA3</td>\n",
       "      <td>TumC2</td>\n",
       "      <td>V19T26-032_C1</td>\n",
       "      <td>200221_BC_SA3_C-D_V19T26-032_CE_V3-Spot000001....</td>\n",
       "      <td>c1.032</td>\n",
       "      <td>HER2+</td>\n",
       "      <td>BCSA3TumC2</td>\n",
       "    </tr>\n",
       "    <tr>\n",
       "      <th>18</th>\n",
       "      <td>TD-2532-BCSA3</td>\n",
       "      <td>BCSA3</td>\n",
       "      <td>TumD1</td>\n",
       "      <td>V19T26-032_B1</td>\n",
       "      <td>200221_BC_SA3_C-D_V19T26-032_CE_V2-Spot000001....</td>\n",
       "      <td>b1.032</td>\n",
       "      <td>HER2+</td>\n",
       "      <td>BCSA3TumD1</td>\n",
       "    </tr>\n",
       "    <tr>\n",
       "      <th>19</th>\n",
       "      <td>TD-2532-BCSA3</td>\n",
       "      <td>BCSA3</td>\n",
       "      <td>TumD2</td>\n",
       "      <td>V19T26-032_A1</td>\n",
       "      <td>200221_BC_SA3_C-D_V19T26-032_CE_V1-Spot000001....</td>\n",
       "      <td>a1.032</td>\n",
       "      <td>HER2+</td>\n",
       "      <td>BCSA3TumD2</td>\n",
       "    </tr>\n",
       "    <tr>\n",
       "      <th>20</th>\n",
       "      <td>TD-2532-BCSA2</td>\n",
       "      <td>BCSA2</td>\n",
       "      <td>TumD3</td>\n",
       "      <td>V10F24-114_A1</td>\n",
       "      <td>200715_BC_SA2_D_E_V10F24-114.A1-Spot000001.h5ad</td>\n",
       "      <td>a1.114</td>\n",
       "      <td>HER2+</td>\n",
       "      <td>BCSA2TumD3</td>\n",
       "    </tr>\n",
       "    <tr>\n",
       "      <th>21</th>\n",
       "      <td>TD-2532-BCSA2</td>\n",
       "      <td>BCSA2</td>\n",
       "      <td>TumD4</td>\n",
       "      <td>V10F24-114_B1</td>\n",
       "      <td>200715_BC_SA2_D_E_V10F24-114.B1-Spot000001.h5ad</td>\n",
       "      <td>b1.114</td>\n",
       "      <td>HER2+</td>\n",
       "      <td>BCSA2TumD4</td>\n",
       "    </tr>\n",
       "    <tr>\n",
       "      <th>22</th>\n",
       "      <td>TD-2532-BCSA4</td>\n",
       "      <td>BCSA4</td>\n",
       "      <td>TumA1</td>\n",
       "      <td>V10B01-135_A1</td>\n",
       "      <td>220302_sATAC_OMNI_V10B01-135_NB.A1-Spot000001....</td>\n",
       "      <td>a1.135</td>\n",
       "      <td>HER2+</td>\n",
       "      <td>BCSA4TumA1</td>\n",
       "    </tr>\n",
       "  </tbody>\n",
       "</table>\n",
       "</div>"
      ],
      "text/plain": [
       "          Patient Patientid Tumor area      Visium ID  \\\n",
       "4   TD-2532-BCSA2     BCSA2      TumB1  V10F24-112_C1   \n",
       "5   TD-2532-BCSA2     BCSA2      TumB2  V10F24-112_D1   \n",
       "6   TD-2532-BCSA2     BCSA2      TumC1  V10F24-113_A1   \n",
       "7   TD-2532-BCSA2     BCSA2      TumC2  V10F24-113_B1   \n",
       "8   TD-2532-BCSA2     BCSA2      TumD1  V10F24-113_C1   \n",
       "9   TD-2532-BCSA2     BCSA2      TumD2  V10F24-113_D1   \n",
       "10  TD-2532-BCSA2     BCSA2      TumE1  V10F24-114_C1   \n",
       "11  TD-2532-BCSA2     BCSA2      TumE2  V10F24-114_D1   \n",
       "12  TD-2532-BCSA3     BCSA3      TumA1  V19T26-031_D1   \n",
       "13  TD-2532-BCSA3     BCSA3      TumA2  V19T26-031_C1   \n",
       "14  TD-2532-BCSA3     BCSA3      TumB1  V19T26-031_B1   \n",
       "15  TD-2532-BCSA3     BCSA3      TumB2  V19T26-031_A1   \n",
       "16  TD-2532-BCSA3     BCSA3      TumC1  V19T26-032_D1   \n",
       "17  TD-2532-BCSA3     BCSA3      TumC2  V19T26-032_C1   \n",
       "18  TD-2532-BCSA3     BCSA3      TumD1  V19T26-032_B1   \n",
       "19  TD-2532-BCSA3     BCSA3      TumD2  V19T26-032_A1   \n",
       "20  TD-2532-BCSA2     BCSA2      TumD3  V10F24-114_A1   \n",
       "21  TD-2532-BCSA2     BCSA2      TumD4  V10F24-114_B1   \n",
       "22  TD-2532-BCSA4     BCSA4      TumA1  V10B01-135_A1   \n",
       "\n",
       "                                        Visum h5ad ID    name   type  \\\n",
       "4      200616_BC-SA2_V10F24-112_KT.C1-Spot000001.h5ad  c1.112  HER2+   \n",
       "5      200616_BC-SA2_V10F24-112_KT.D1-Spot000001.h5ad  d1.112  HER2+   \n",
       "6     200715_BC_SA2_C_D_V10F24-113.A1-Spot000001.h5ad  a1.113  HER2+   \n",
       "7     200715_BC_SA2_C_D_V10F24-113.B1-Spot000001.h5ad  b1.113  HER2+   \n",
       "8     200715_BC_SA2_C_D_V10F24-113.C1-Spot000001.h5ad  c1.113  HER2+   \n",
       "9     200715_BC_SA2_C_D_V10F24-113.D1-Spot000001.h5ad  d1.113  HER2+   \n",
       "10    200715_BC_SA2_D_E_V10F24-114.C1-Spot000001.h5ad  c1.114  HER2+   \n",
       "11    200715_BC_SA2_D_E_V10F24-114.D1-Spot000001.h5ad  d1.114  HER2+   \n",
       "12     200219_BC_SA3_V19T26-031_CE_V4-Spot000001.h5ad  d1.031  HER2+   \n",
       "13     200219_BC_SA3_V19T26-031_CE_V3-Spot000001.h5ad  c1.031  HER2+   \n",
       "14     200219_BC_SA3_V19T26-031_CE_V2-Spot000001.h5ad  b1.031  HER2+   \n",
       "15     200219_BC_SA3_V19T26-031_CE_V1-Spot000001.h5ad  a1.031  HER2+   \n",
       "16  200221_BC_SA3_C-D_V19T26-032_CE_V4-Spot000001....  d1.032  HER2+   \n",
       "17  200221_BC_SA3_C-D_V19T26-032_CE_V3-Spot000001....  c1.032  HER2+   \n",
       "18  200221_BC_SA3_C-D_V19T26-032_CE_V2-Spot000001....  b1.032  HER2+   \n",
       "19  200221_BC_SA3_C-D_V19T26-032_CE_V1-Spot000001....  a1.032  HER2+   \n",
       "20    200715_BC_SA2_D_E_V10F24-114.A1-Spot000001.h5ad  a1.114  HER2+   \n",
       "21    200715_BC_SA2_D_E_V10F24-114.B1-Spot000001.h5ad  b1.114  HER2+   \n",
       "22  220302_sATAC_OMNI_V10B01-135_NB.A1-Spot000001....  a1.135  HER2+   \n",
       "\n",
       "      sampleID  \n",
       "4   BCSA2TumB1  \n",
       "5   BCSA2TumB2  \n",
       "6   BCSA2TumC1  \n",
       "7   BCSA2TumC2  \n",
       "8   BCSA2TumD1  \n",
       "9   BCSA2TumD2  \n",
       "10  BCSA2TumE1  \n",
       "11  BCSA2TumE2  \n",
       "12  BCSA3TumA1  \n",
       "13  BCSA3TumA2  \n",
       "14  BCSA3TumB1  \n",
       "15  BCSA3TumB2  \n",
       "16  BCSA3TumC1  \n",
       "17  BCSA3TumC2  \n",
       "18  BCSA3TumD1  \n",
       "19  BCSA3TumD2  \n",
       "20  BCSA2TumD3  \n",
       "21  BCSA2TumD4  \n",
       "22  BCSA4TumA1  "
      ]
     },
     "execution_count": 11,
     "metadata": {},
     "output_type": "execute_result"
    }
   ],
   "source": [
    "# Select one sample from each subtype to train the reference map\n",
    "info2 = info.iloc[4:23]\n",
    "info2"
   ]
  },
  {
   "cell_type": "code",
   "execution_count": 12,
   "id": "97b65763-d5d3-4949-9250-98fcaa02f421",
   "metadata": {},
   "outputs": [
    {
     "name": "stderr",
     "output_type": "stream",
     "text": [
      "GPU available: True (mps), used: False\n",
      "TPU available: False, using: 0 TPU cores\n",
      "IPU available: False, using: 0 IPUs\n",
      "HPU available: False, using: 0 HPUs\n",
      "/Users/tili/miniconda3/envs/cell2loc_env/lib/python3.9/site-packages/lightning/pytorch/trainer/setup.py:187: GPU available but not used. You can set it by doing `Trainer(accelerator='gpu')`.\n",
      "/Users/tili/miniconda3/envs/cell2loc_env/lib/python3.9/site-packages/lightning/pytorch/trainer/configuration_validator.py:72: You passed in a `val_dataloader` but have no `validation_step`. Skipping val loop.\n",
      "/Users/tili/miniconda3/envs/cell2loc_env/lib/python3.9/site-packages/lightning/pytorch/trainer/connectors/data_connector.py:441: The 'train_dataloader' does not have many workers which may be a bottleneck. Consider increasing the value of the `num_workers` argument` to `num_workers=23` in the `DataLoader` to improve performance.\n",
      "/Users/tili/miniconda3/envs/cell2loc_env/lib/python3.9/site-packages/lightning/pytorch/loops/fit_loop.py:293: The number of training batches (1) is smaller than the logging interval Trainer(log_every_n_steps=10). Set a lower value for log_every_n_steps if you want to see logs for the training epoch.\n"
     ]
    },
    {
     "name": "stdout",
     "output_type": "stream",
     "text": [
      "Epoch 30000/30000: 100%|█| 30000/30000 [4:05:27<00:00,  2.07it/s, v_num=1, elbo_"
     ]
    },
    {
     "name": "stderr",
     "output_type": "stream",
     "text": [
      "`Trainer.fit` stopped: `max_epochs=30000` reached.\n"
     ]
    },
    {
     "name": "stdout",
     "output_type": "stream",
     "text": [
      "Epoch 30000/30000: 100%|█| 30000/30000 [4:05:27<00:00,  2.04it/s, v_num=1, elbo_\n",
      "Sampling local variables, batch: 100%|████████████| 1/1 [01:01<00:00, 61.63s/it]\n",
      "Sampling global variables, sample: 100%|██████| 999/999 [01:01<00:00, 16.15it/s]\n"
     ]
    },
    {
     "name": "stderr",
     "output_type": "stream",
     "text": [
      "GPU available: True (mps), used: False\n",
      "TPU available: False, using: 0 TPU cores\n",
      "IPU available: False, using: 0 IPUs\n",
      "HPU available: False, using: 0 HPUs\n",
      "/Users/tili/miniconda3/envs/cell2loc_env/lib/python3.9/site-packages/lightning/pytorch/trainer/setup.py:187: GPU available but not used. You can set it by doing `Trainer(accelerator='gpu')`.\n",
      "/Users/tili/miniconda3/envs/cell2loc_env/lib/python3.9/site-packages/lightning/pytorch/trainer/configuration_validator.py:72: You passed in a `val_dataloader` but have no `validation_step`. Skipping val loop.\n",
      "/Users/tili/miniconda3/envs/cell2loc_env/lib/python3.9/site-packages/lightning/pytorch/trainer/connectors/data_connector.py:441: The 'train_dataloader' does not have many workers which may be a bottleneck. Consider increasing the value of the `num_workers` argument` to `num_workers=23` in the `DataLoader` to improve performance.\n",
      "/Users/tili/miniconda3/envs/cell2loc_env/lib/python3.9/site-packages/lightning/pytorch/loops/fit_loop.py:293: The number of training batches (1) is smaller than the logging interval Trainer(log_every_n_steps=10). Set a lower value for log_every_n_steps if you want to see logs for the training epoch.\n"
     ]
    },
    {
     "name": "stdout",
     "output_type": "stream",
     "text": [
      "Epoch 30000/30000: 100%|█| 30000/30000 [4:24:24<00:00,  1.90it/s, v_num=1, elbo_"
     ]
    },
    {
     "name": "stderr",
     "output_type": "stream",
     "text": [
      "`Trainer.fit` stopped: `max_epochs=30000` reached.\n"
     ]
    },
    {
     "name": "stdout",
     "output_type": "stream",
     "text": [
      "Epoch 30000/30000: 100%|█| 30000/30000 [4:24:24<00:00,  1.89it/s, v_num=1, elbo_\n",
      "Sampling local variables, batch: 100%|████████████| 1/1 [01:07<00:00, 67.58s/it]\n",
      "Sampling global variables, sample: 100%|██████| 999/999 [01:07<00:00, 14.79it/s]\n"
     ]
    },
    {
     "name": "stderr",
     "output_type": "stream",
     "text": [
      "GPU available: True (mps), used: False\n",
      "TPU available: False, using: 0 TPU cores\n",
      "IPU available: False, using: 0 IPUs\n",
      "HPU available: False, using: 0 HPUs\n",
      "/Users/tili/miniconda3/envs/cell2loc_env/lib/python3.9/site-packages/lightning/pytorch/trainer/setup.py:187: GPU available but not used. You can set it by doing `Trainer(accelerator='gpu')`.\n",
      "/Users/tili/miniconda3/envs/cell2loc_env/lib/python3.9/site-packages/lightning/pytorch/trainer/configuration_validator.py:72: You passed in a `val_dataloader` but have no `validation_step`. Skipping val loop.\n",
      "/Users/tili/miniconda3/envs/cell2loc_env/lib/python3.9/site-packages/lightning/pytorch/trainer/connectors/data_connector.py:441: The 'train_dataloader' does not have many workers which may be a bottleneck. Consider increasing the value of the `num_workers` argument` to `num_workers=23` in the `DataLoader` to improve performance.\n",
      "/Users/tili/miniconda3/envs/cell2loc_env/lib/python3.9/site-packages/lightning/pytorch/loops/fit_loop.py:293: The number of training batches (1) is smaller than the logging interval Trainer(log_every_n_steps=10). Set a lower value for log_every_n_steps if you want to see logs for the training epoch.\n"
     ]
    },
    {
     "name": "stdout",
     "output_type": "stream",
     "text": [
      "Epoch 30000/30000: 100%|█| 30000/30000 [5:34:17<00:00,  1.49it/s, v_num=1, elbo_"
     ]
    },
    {
     "name": "stderr",
     "output_type": "stream",
     "text": [
      "`Trainer.fit` stopped: `max_epochs=30000` reached.\n"
     ]
    },
    {
     "name": "stdout",
     "output_type": "stream",
     "text": [
      "Epoch 30000/30000: 100%|█| 30000/30000 [5:34:17<00:00,  1.50it/s, v_num=1, elbo_\n",
      "Sampling local variables, batch: 100%|████████████| 1/1 [01:21<00:00, 81.86s/it]\n",
      "Sampling global variables, sample: 100%|██████| 999/999 [01:23<00:00, 11.95it/s]\n"
     ]
    },
    {
     "name": "stderr",
     "output_type": "stream",
     "text": [
      "GPU available: True (mps), used: False\n",
      "TPU available: False, using: 0 TPU cores\n",
      "IPU available: False, using: 0 IPUs\n",
      "HPU available: False, using: 0 HPUs\n",
      "/Users/tili/miniconda3/envs/cell2loc_env/lib/python3.9/site-packages/lightning/pytorch/trainer/setup.py:187: GPU available but not used. You can set it by doing `Trainer(accelerator='gpu')`.\n",
      "/Users/tili/miniconda3/envs/cell2loc_env/lib/python3.9/site-packages/lightning/pytorch/trainer/configuration_validator.py:72: You passed in a `val_dataloader` but have no `validation_step`. Skipping val loop.\n",
      "/Users/tili/miniconda3/envs/cell2loc_env/lib/python3.9/site-packages/lightning/pytorch/trainer/connectors/data_connector.py:441: The 'train_dataloader' does not have many workers which may be a bottleneck. Consider increasing the value of the `num_workers` argument` to `num_workers=23` in the `DataLoader` to improve performance.\n",
      "/Users/tili/miniconda3/envs/cell2loc_env/lib/python3.9/site-packages/lightning/pytorch/loops/fit_loop.py:293: The number of training batches (1) is smaller than the logging interval Trainer(log_every_n_steps=10). Set a lower value for log_every_n_steps if you want to see logs for the training epoch.\n"
     ]
    },
    {
     "name": "stdout",
     "output_type": "stream",
     "text": [
      "Epoch 30000/30000: 100%|█| 30000/30000 [5:53:37<00:00,  1.41it/s, v_num=1, elbo_"
     ]
    },
    {
     "name": "stderr",
     "output_type": "stream",
     "text": [
      "`Trainer.fit` stopped: `max_epochs=30000` reached.\n"
     ]
    },
    {
     "name": "stdout",
     "output_type": "stream",
     "text": [
      "Epoch 30000/30000: 100%|█| 30000/30000 [5:53:37<00:00,  1.41it/s, v_num=1, elbo_\n",
      "Sampling local variables, batch: 100%|████████████| 1/1 [01:26<00:00, 86.77s/it]\n",
      "Sampling global variables, sample: 100%|██████| 999/999 [01:29<00:00, 11.20it/s]\n"
     ]
    },
    {
     "name": "stderr",
     "output_type": "stream",
     "text": [
      "GPU available: True (mps), used: False\n",
      "TPU available: False, using: 0 TPU cores\n",
      "IPU available: False, using: 0 IPUs\n",
      "HPU available: False, using: 0 HPUs\n",
      "/Users/tili/miniconda3/envs/cell2loc_env/lib/python3.9/site-packages/lightning/pytorch/trainer/setup.py:187: GPU available but not used. You can set it by doing `Trainer(accelerator='gpu')`.\n",
      "/Users/tili/miniconda3/envs/cell2loc_env/lib/python3.9/site-packages/lightning/pytorch/trainer/configuration_validator.py:72: You passed in a `val_dataloader` but have no `validation_step`. Skipping val loop.\n",
      "/Users/tili/miniconda3/envs/cell2loc_env/lib/python3.9/site-packages/lightning/pytorch/trainer/connectors/data_connector.py:441: The 'train_dataloader' does not have many workers which may be a bottleneck. Consider increasing the value of the `num_workers` argument` to `num_workers=23` in the `DataLoader` to improve performance.\n",
      "/Users/tili/miniconda3/envs/cell2loc_env/lib/python3.9/site-packages/lightning/pytorch/loops/fit_loop.py:293: The number of training batches (1) is smaller than the logging interval Trainer(log_every_n_steps=10). Set a lower value for log_every_n_steps if you want to see logs for the training epoch.\n"
     ]
    },
    {
     "name": "stdout",
     "output_type": "stream",
     "text": [
      "Epoch 30000/30000: 100%|█| 30000/30000 [6:18:07<00:00,  1.31it/s, v_num=1, elbo_"
     ]
    },
    {
     "name": "stderr",
     "output_type": "stream",
     "text": [
      "`Trainer.fit` stopped: `max_epochs=30000` reached.\n"
     ]
    },
    {
     "name": "stdout",
     "output_type": "stream",
     "text": [
      "Epoch 30000/30000: 100%|█| 30000/30000 [6:18:07<00:00,  1.32it/s, v_num=1, elbo_\n",
      "Sampling local variables, batch: 100%|████████████| 1/1 [01:31<00:00, 91.25s/it]\n",
      "Sampling global variables, sample: 100%|██████| 999/999 [01:36<00:00, 10.39it/s]\n"
     ]
    },
    {
     "name": "stderr",
     "output_type": "stream",
     "text": [
      "GPU available: True (mps), used: False\n",
      "TPU available: False, using: 0 TPU cores\n",
      "IPU available: False, using: 0 IPUs\n",
      "HPU available: False, using: 0 HPUs\n",
      "/Users/tili/miniconda3/envs/cell2loc_env/lib/python3.9/site-packages/lightning/pytorch/trainer/setup.py:187: GPU available but not used. You can set it by doing `Trainer(accelerator='gpu')`.\n",
      "/Users/tili/miniconda3/envs/cell2loc_env/lib/python3.9/site-packages/lightning/pytorch/trainer/configuration_validator.py:72: You passed in a `val_dataloader` but have no `validation_step`. Skipping val loop.\n",
      "/Users/tili/miniconda3/envs/cell2loc_env/lib/python3.9/site-packages/lightning/pytorch/trainer/connectors/data_connector.py:441: The 'train_dataloader' does not have many workers which may be a bottleneck. Consider increasing the value of the `num_workers` argument` to `num_workers=23` in the `DataLoader` to improve performance.\n",
      "/Users/tili/miniconda3/envs/cell2loc_env/lib/python3.9/site-packages/lightning/pytorch/loops/fit_loop.py:293: The number of training batches (1) is smaller than the logging interval Trainer(log_every_n_steps=10). Set a lower value for log_every_n_steps if you want to see logs for the training epoch.\n"
     ]
    },
    {
     "name": "stdout",
     "output_type": "stream",
     "text": [
      "Epoch 30000/30000: 100%|█| 30000/30000 [5:16:40<00:00,  1.58it/s, v_num=1, elbo_"
     ]
    },
    {
     "name": "stderr",
     "output_type": "stream",
     "text": [
      "`Trainer.fit` stopped: `max_epochs=30000` reached.\n"
     ]
    },
    {
     "name": "stdout",
     "output_type": "stream",
     "text": [
      "Epoch 30000/30000: 100%|█| 30000/30000 [5:16:40<00:00,  1.58it/s, v_num=1, elbo_\n",
      "Sampling local variables, batch: 100%|████████████| 1/1 [01:12<00:00, 72.57s/it]\n",
      "Sampling global variables, sample: 100%|██████| 999/999 [01:17<00:00, 12.89it/s]\n"
     ]
    },
    {
     "name": "stderr",
     "output_type": "stream",
     "text": [
      "GPU available: True (mps), used: False\n",
      "TPU available: False, using: 0 TPU cores\n",
      "IPU available: False, using: 0 IPUs\n",
      "HPU available: False, using: 0 HPUs\n",
      "/Users/tili/miniconda3/envs/cell2loc_env/lib/python3.9/site-packages/lightning/pytorch/trainer/setup.py:187: GPU available but not used. You can set it by doing `Trainer(accelerator='gpu')`.\n",
      "/Users/tili/miniconda3/envs/cell2loc_env/lib/python3.9/site-packages/lightning/pytorch/trainer/configuration_validator.py:72: You passed in a `val_dataloader` but have no `validation_step`. Skipping val loop.\n",
      "/Users/tili/miniconda3/envs/cell2loc_env/lib/python3.9/site-packages/lightning/pytorch/trainer/connectors/data_connector.py:441: The 'train_dataloader' does not have many workers which may be a bottleneck. Consider increasing the value of the `num_workers` argument` to `num_workers=23` in the `DataLoader` to improve performance.\n",
      "/Users/tili/miniconda3/envs/cell2loc_env/lib/python3.9/site-packages/lightning/pytorch/loops/fit_loop.py:293: The number of training batches (1) is smaller than the logging interval Trainer(log_every_n_steps=10). Set a lower value for log_every_n_steps if you want to see logs for the training epoch.\n"
     ]
    },
    {
     "name": "stdout",
     "output_type": "stream",
     "text": [
      "Epoch 30000/30000: 100%|█| 30000/30000 [6:15:25<00:00,  1.34it/s, v_num=1, elbo_"
     ]
    },
    {
     "name": "stderr",
     "output_type": "stream",
     "text": [
      "`Trainer.fit` stopped: `max_epochs=30000` reached.\n"
     ]
    },
    {
     "name": "stdout",
     "output_type": "stream",
     "text": [
      "Epoch 30000/30000: 100%|█| 30000/30000 [6:15:25<00:00,  1.33it/s, v_num=1, elbo_\n",
      "Sampling local variables, batch: 100%|████████████| 1/1 [01:31<00:00, 91.54s/it]\n",
      "Sampling global variables, sample: 100%|██████| 999/999 [01:44<00:00,  9.58it/s]\n"
     ]
    },
    {
     "name": "stderr",
     "output_type": "stream",
     "text": [
      "GPU available: True (mps), used: False\n",
      "TPU available: False, using: 0 TPU cores\n",
      "IPU available: False, using: 0 IPUs\n",
      "HPU available: False, using: 0 HPUs\n",
      "/Users/tili/miniconda3/envs/cell2loc_env/lib/python3.9/site-packages/lightning/pytorch/trainer/setup.py:187: GPU available but not used. You can set it by doing `Trainer(accelerator='gpu')`.\n",
      "/Users/tili/miniconda3/envs/cell2loc_env/lib/python3.9/site-packages/lightning/pytorch/trainer/configuration_validator.py:72: You passed in a `val_dataloader` but have no `validation_step`. Skipping val loop.\n",
      "/Users/tili/miniconda3/envs/cell2loc_env/lib/python3.9/site-packages/lightning/pytorch/trainer/connectors/data_connector.py:441: The 'train_dataloader' does not have many workers which may be a bottleneck. Consider increasing the value of the `num_workers` argument` to `num_workers=23` in the `DataLoader` to improve performance.\n",
      "/Users/tili/miniconda3/envs/cell2loc_env/lib/python3.9/site-packages/lightning/pytorch/loops/fit_loop.py:293: The number of training batches (1) is smaller than the logging interval Trainer(log_every_n_steps=10). Set a lower value for log_every_n_steps if you want to see logs for the training epoch.\n"
     ]
    },
    {
     "name": "stdout",
     "output_type": "stream",
     "text": [
      "Epoch 30000/30000: 100%|█| 30000/30000 [6:15:28<00:00,  1.33it/s, v_num=1, elbo_"
     ]
    },
    {
     "name": "stderr",
     "output_type": "stream",
     "text": [
      "`Trainer.fit` stopped: `max_epochs=30000` reached.\n"
     ]
    },
    {
     "name": "stdout",
     "output_type": "stream",
     "text": [
      "Epoch 30000/30000: 100%|█| 30000/30000 [6:15:28<00:00,  1.33it/s, v_num=1, elbo_\n",
      "Sampling local variables, batch: 100%|████████████| 1/1 [01:30<00:00, 90.68s/it]\n",
      "Sampling global variables, sample: 100%|██████| 999/999 [01:44<00:00,  9.55it/s]\n"
     ]
    },
    {
     "name": "stderr",
     "output_type": "stream",
     "text": [
      "GPU available: True (mps), used: False\n",
      "TPU available: False, using: 0 TPU cores\n",
      "IPU available: False, using: 0 IPUs\n",
      "HPU available: False, using: 0 HPUs\n",
      "/Users/tili/miniconda3/envs/cell2loc_env/lib/python3.9/site-packages/lightning/pytorch/trainer/setup.py:187: GPU available but not used. You can set it by doing `Trainer(accelerator='gpu')`.\n",
      "/Users/tili/miniconda3/envs/cell2loc_env/lib/python3.9/site-packages/lightning/pytorch/trainer/configuration_validator.py:72: You passed in a `val_dataloader` but have no `validation_step`. Skipping val loop.\n",
      "/Users/tili/miniconda3/envs/cell2loc_env/lib/python3.9/site-packages/lightning/pytorch/trainer/connectors/data_connector.py:441: The 'train_dataloader' does not have many workers which may be a bottleneck. Consider increasing the value of the `num_workers` argument` to `num_workers=23` in the `DataLoader` to improve performance.\n",
      "/Users/tili/miniconda3/envs/cell2loc_env/lib/python3.9/site-packages/lightning/pytorch/loops/fit_loop.py:293: The number of training batches (1) is smaller than the logging interval Trainer(log_every_n_steps=10). Set a lower value for log_every_n_steps if you want to see logs for the training epoch.\n"
     ]
    },
    {
     "name": "stdout",
     "output_type": "stream",
     "text": [
      "Epoch 30000/30000: 100%|█| 30000/30000 [5:25:22<00:00,  1.47it/s, v_num=1, elbo_"
     ]
    },
    {
     "name": "stderr",
     "output_type": "stream",
     "text": [
      "`Trainer.fit` stopped: `max_epochs=30000` reached.\n"
     ]
    },
    {
     "name": "stdout",
     "output_type": "stream",
     "text": [
      "Epoch 30000/30000: 100%|█| 30000/30000 [5:25:22<00:00,  1.54it/s, v_num=1, elbo_\n",
      "Sampling local variables, batch: 100%|████████████| 1/1 [01:24<00:00, 84.56s/it]\n",
      "Sampling global variables, sample: 100%|██████| 999/999 [01:29<00:00, 11.17it/s]\n"
     ]
    },
    {
     "name": "stderr",
     "output_type": "stream",
     "text": [
      "GPU available: True (mps), used: False\n",
      "TPU available: False, using: 0 TPU cores\n",
      "IPU available: False, using: 0 IPUs\n",
      "HPU available: False, using: 0 HPUs\n",
      "/Users/tili/miniconda3/envs/cell2loc_env/lib/python3.9/site-packages/lightning/pytorch/trainer/setup.py:187: GPU available but not used. You can set it by doing `Trainer(accelerator='gpu')`.\n",
      "/Users/tili/miniconda3/envs/cell2loc_env/lib/python3.9/site-packages/lightning/pytorch/trainer/configuration_validator.py:72: You passed in a `val_dataloader` but have no `validation_step`. Skipping val loop.\n",
      "/Users/tili/miniconda3/envs/cell2loc_env/lib/python3.9/site-packages/lightning/pytorch/trainer/connectors/data_connector.py:441: The 'train_dataloader' does not have many workers which may be a bottleneck. Consider increasing the value of the `num_workers` argument` to `num_workers=23` in the `DataLoader` to improve performance.\n",
      "/Users/tili/miniconda3/envs/cell2loc_env/lib/python3.9/site-packages/lightning/pytorch/loops/fit_loop.py:293: The number of training batches (1) is smaller than the logging interval Trainer(log_every_n_steps=10). Set a lower value for log_every_n_steps if you want to see logs for the training epoch.\n"
     ]
    },
    {
     "name": "stdout",
     "output_type": "stream",
     "text": [
      "Epoch 30000/30000: 100%|█| 30000/30000 [5:26:54<00:00,  1.54it/s, v_num=1, elbo_"
     ]
    },
    {
     "name": "stderr",
     "output_type": "stream",
     "text": [
      "`Trainer.fit` stopped: `max_epochs=30000` reached.\n"
     ]
    },
    {
     "name": "stdout",
     "output_type": "stream",
     "text": [
      "Epoch 30000/30000: 100%|█| 30000/30000 [5:26:54<00:00,  1.53it/s, v_num=1, elbo_\n",
      "Sampling local variables, batch: 100%|████████████| 1/1 [01:13<00:00, 73.03s/it]\n",
      "Sampling global variables, sample: 100%|██████| 999/999 [01:23<00:00, 11.90it/s]\n"
     ]
    },
    {
     "name": "stderr",
     "output_type": "stream",
     "text": [
      "GPU available: True (mps), used: False\n",
      "TPU available: False, using: 0 TPU cores\n",
      "IPU available: False, using: 0 IPUs\n",
      "HPU available: False, using: 0 HPUs\n",
      "/Users/tili/miniconda3/envs/cell2loc_env/lib/python3.9/site-packages/lightning/pytorch/trainer/setup.py:187: GPU available but not used. You can set it by doing `Trainer(accelerator='gpu')`.\n",
      "/Users/tili/miniconda3/envs/cell2loc_env/lib/python3.9/site-packages/lightning/pytorch/trainer/configuration_validator.py:72: You passed in a `val_dataloader` but have no `validation_step`. Skipping val loop.\n",
      "/Users/tili/miniconda3/envs/cell2loc_env/lib/python3.9/site-packages/lightning/pytorch/trainer/connectors/data_connector.py:441: The 'train_dataloader' does not have many workers which may be a bottleneck. Consider increasing the value of the `num_workers` argument` to `num_workers=23` in the `DataLoader` to improve performance.\n",
      "/Users/tili/miniconda3/envs/cell2loc_env/lib/python3.9/site-packages/lightning/pytorch/loops/fit_loop.py:293: The number of training batches (1) is smaller than the logging interval Trainer(log_every_n_steps=10). Set a lower value for log_every_n_steps if you want to see logs for the training epoch.\n"
     ]
    },
    {
     "name": "stdout",
     "output_type": "stream",
     "text": [
      "Epoch 30000/30000: 100%|█| 30000/30000 [4:34:20<00:00,  1.80it/s, v_num=1, elbo_"
     ]
    },
    {
     "name": "stderr",
     "output_type": "stream",
     "text": [
      "`Trainer.fit` stopped: `max_epochs=30000` reached.\n"
     ]
    },
    {
     "name": "stdout",
     "output_type": "stream",
     "text": [
      "Epoch 30000/30000: 100%|█| 30000/30000 [4:34:20<00:00,  1.82it/s, v_num=1, elbo_\n",
      "Sampling local variables, batch: 100%|████████████| 1/1 [00:59<00:00, 59.56s/it]\n",
      "Sampling global variables, sample: 100%|██████| 999/999 [01:10<00:00, 14.09it/s]\n"
     ]
    },
    {
     "name": "stderr",
     "output_type": "stream",
     "text": [
      "GPU available: True (mps), used: False\n",
      "TPU available: False, using: 0 TPU cores\n",
      "IPU available: False, using: 0 IPUs\n",
      "HPU available: False, using: 0 HPUs\n",
      "/Users/tili/miniconda3/envs/cell2loc_env/lib/python3.9/site-packages/lightning/pytorch/trainer/setup.py:187: GPU available but not used. You can set it by doing `Trainer(accelerator='gpu')`.\n",
      "/Users/tili/miniconda3/envs/cell2loc_env/lib/python3.9/site-packages/lightning/pytorch/trainer/configuration_validator.py:72: You passed in a `val_dataloader` but have no `validation_step`. Skipping val loop.\n",
      "/Users/tili/miniconda3/envs/cell2loc_env/lib/python3.9/site-packages/lightning/pytorch/trainer/connectors/data_connector.py:441: The 'train_dataloader' does not have many workers which may be a bottleneck. Consider increasing the value of the `num_workers` argument` to `num_workers=23` in the `DataLoader` to improve performance.\n",
      "/Users/tili/miniconda3/envs/cell2loc_env/lib/python3.9/site-packages/lightning/pytorch/loops/fit_loop.py:293: The number of training batches (1) is smaller than the logging interval Trainer(log_every_n_steps=10). Set a lower value for log_every_n_steps if you want to see logs for the training epoch.\n"
     ]
    },
    {
     "name": "stdout",
     "output_type": "stream",
     "text": [
      "Epoch 30000/30000: 100%|█| 30000/30000 [4:44:00<00:00,  1.81it/s, v_num=1, elbo_"
     ]
    },
    {
     "name": "stderr",
     "output_type": "stream",
     "text": [
      "`Trainer.fit` stopped: `max_epochs=30000` reached.\n"
     ]
    },
    {
     "name": "stdout",
     "output_type": "stream",
     "text": [
      "Epoch 30000/30000: 100%|█| 30000/30000 [4:44:00<00:00,  1.76it/s, v_num=1, elbo_\n",
      "Sampling local variables, batch: 100%|████████████| 1/1 [01:05<00:00, 65.46s/it]\n",
      "Sampling global variables, sample: 100%|██████| 999/999 [01:16<00:00, 13.04it/s]\n"
     ]
    },
    {
     "name": "stderr",
     "output_type": "stream",
     "text": [
      "GPU available: True (mps), used: False\n",
      "TPU available: False, using: 0 TPU cores\n",
      "IPU available: False, using: 0 IPUs\n",
      "HPU available: False, using: 0 HPUs\n",
      "/Users/tili/miniconda3/envs/cell2loc_env/lib/python3.9/site-packages/lightning/pytorch/trainer/setup.py:187: GPU available but not used. You can set it by doing `Trainer(accelerator='gpu')`.\n",
      "/Users/tili/miniconda3/envs/cell2loc_env/lib/python3.9/site-packages/lightning/pytorch/trainer/configuration_validator.py:72: You passed in a `val_dataloader` but have no `validation_step`. Skipping val loop.\n",
      "/Users/tili/miniconda3/envs/cell2loc_env/lib/python3.9/site-packages/lightning/pytorch/trainer/connectors/data_connector.py:441: The 'train_dataloader' does not have many workers which may be a bottleneck. Consider increasing the value of the `num_workers` argument` to `num_workers=23` in the `DataLoader` to improve performance.\n",
      "/Users/tili/miniconda3/envs/cell2loc_env/lib/python3.9/site-packages/lightning/pytorch/loops/fit_loop.py:293: The number of training batches (1) is smaller than the logging interval Trainer(log_every_n_steps=10). Set a lower value for log_every_n_steps if you want to see logs for the training epoch.\n"
     ]
    },
    {
     "name": "stdout",
     "output_type": "stream",
     "text": [
      "Epoch 30000/30000: 100%|█| 30000/30000 [5:44:42<00:00,  1.47it/s, v_num=1, elbo_"
     ]
    },
    {
     "name": "stderr",
     "output_type": "stream",
     "text": [
      "`Trainer.fit` stopped: `max_epochs=30000` reached.\n"
     ]
    },
    {
     "name": "stdout",
     "output_type": "stream",
     "text": [
      "Epoch 30000/30000: 100%|█| 30000/30000 [5:44:42<00:00,  1.45it/s, v_num=1, elbo_\n",
      "Sampling local variables, batch: 100%|████████████| 1/1 [01:15<00:00, 75.03s/it]\n",
      "Sampling global variables, sample: 100%|██████| 999/999 [01:28<00:00, 11.33it/s]\n"
     ]
    },
    {
     "name": "stderr",
     "output_type": "stream",
     "text": [
      "GPU available: True (mps), used: False\n",
      "TPU available: False, using: 0 TPU cores\n",
      "IPU available: False, using: 0 IPUs\n",
      "HPU available: False, using: 0 HPUs\n",
      "/Users/tili/miniconda3/envs/cell2loc_env/lib/python3.9/site-packages/lightning/pytorch/trainer/setup.py:187: GPU available but not used. You can set it by doing `Trainer(accelerator='gpu')`.\n",
      "/Users/tili/miniconda3/envs/cell2loc_env/lib/python3.9/site-packages/lightning/pytorch/trainer/configuration_validator.py:72: You passed in a `val_dataloader` but have no `validation_step`. Skipping val loop.\n",
      "/Users/tili/miniconda3/envs/cell2loc_env/lib/python3.9/site-packages/lightning/pytorch/trainer/connectors/data_connector.py:441: The 'train_dataloader' does not have many workers which may be a bottleneck. Consider increasing the value of the `num_workers` argument` to `num_workers=23` in the `DataLoader` to improve performance.\n",
      "/Users/tili/miniconda3/envs/cell2loc_env/lib/python3.9/site-packages/lightning/pytorch/loops/fit_loop.py:293: The number of training batches (1) is smaller than the logging interval Trainer(log_every_n_steps=10). Set a lower value for log_every_n_steps if you want to see logs for the training epoch.\n"
     ]
    },
    {
     "name": "stdout",
     "output_type": "stream",
     "text": [
      "Epoch 30000/30000: 100%|█| 30000/30000 [5:46:13<00:00,  1.51it/s, v_num=1, elbo_"
     ]
    },
    {
     "name": "stderr",
     "output_type": "stream",
     "text": [
      "`Trainer.fit` stopped: `max_epochs=30000` reached.\n"
     ]
    },
    {
     "name": "stdout",
     "output_type": "stream",
     "text": [
      "Epoch 30000/30000: 100%|█| 30000/30000 [5:46:13<00:00,  1.44it/s, v_num=1, elbo_\n",
      "Sampling local variables, batch: 100%|████████████| 1/1 [01:14<00:00, 74.16s/it]\n",
      "Sampling global variables, sample: 100%|██████| 999/999 [01:28<00:00, 11.26it/s]\n"
     ]
    },
    {
     "name": "stderr",
     "output_type": "stream",
     "text": [
      "GPU available: True (mps), used: False\n",
      "TPU available: False, using: 0 TPU cores\n",
      "IPU available: False, using: 0 IPUs\n",
      "HPU available: False, using: 0 HPUs\n",
      "/Users/tili/miniconda3/envs/cell2loc_env/lib/python3.9/site-packages/lightning/pytorch/trainer/setup.py:187: GPU available but not used. You can set it by doing `Trainer(accelerator='gpu')`.\n",
      "/Users/tili/miniconda3/envs/cell2loc_env/lib/python3.9/site-packages/lightning/pytorch/trainer/configuration_validator.py:72: You passed in a `val_dataloader` but have no `validation_step`. Skipping val loop.\n",
      "/Users/tili/miniconda3/envs/cell2loc_env/lib/python3.9/site-packages/lightning/pytorch/trainer/connectors/data_connector.py:441: The 'train_dataloader' does not have many workers which may be a bottleneck. Consider increasing the value of the `num_workers` argument` to `num_workers=23` in the `DataLoader` to improve performance.\n",
      "/Users/tili/miniconda3/envs/cell2loc_env/lib/python3.9/site-packages/lightning/pytorch/loops/fit_loop.py:293: The number of training batches (1) is smaller than the logging interval Trainer(log_every_n_steps=10). Set a lower value for log_every_n_steps if you want to see logs for the training epoch.\n"
     ]
    },
    {
     "name": "stdout",
     "output_type": "stream",
     "text": [
      "Epoch 30000/30000: 100%|█| 30000/30000 [4:58:36<00:00,  1.72it/s, v_num=1, elbo_"
     ]
    },
    {
     "name": "stderr",
     "output_type": "stream",
     "text": [
      "`Trainer.fit` stopped: `max_epochs=30000` reached.\n"
     ]
    },
    {
     "name": "stdout",
     "output_type": "stream",
     "text": [
      "Epoch 30000/30000: 100%|█| 30000/30000 [4:58:36<00:00,  1.67it/s, v_num=1, elbo_\n",
      "Sampling local variables, batch: 100%|████████████| 1/1 [01:08<00:00, 68.82s/it]\n",
      "Sampling global variables, sample: 100%|██████| 999/999 [01:24<00:00, 11.88it/s]\n"
     ]
    },
    {
     "name": "stderr",
     "output_type": "stream",
     "text": [
      "GPU available: True (mps), used: False\n",
      "TPU available: False, using: 0 TPU cores\n",
      "IPU available: False, using: 0 IPUs\n",
      "HPU available: False, using: 0 HPUs\n",
      "/Users/tili/miniconda3/envs/cell2loc_env/lib/python3.9/site-packages/lightning/pytorch/trainer/setup.py:187: GPU available but not used. You can set it by doing `Trainer(accelerator='gpu')`.\n",
      "/Users/tili/miniconda3/envs/cell2loc_env/lib/python3.9/site-packages/lightning/pytorch/trainer/configuration_validator.py:72: You passed in a `val_dataloader` but have no `validation_step`. Skipping val loop.\n",
      "/Users/tili/miniconda3/envs/cell2loc_env/lib/python3.9/site-packages/lightning/pytorch/trainer/connectors/data_connector.py:441: The 'train_dataloader' does not have many workers which may be a bottleneck. Consider increasing the value of the `num_workers` argument` to `num_workers=23` in the `DataLoader` to improve performance.\n",
      "/Users/tili/miniconda3/envs/cell2loc_env/lib/python3.9/site-packages/lightning/pytorch/loops/fit_loop.py:293: The number of training batches (1) is smaller than the logging interval Trainer(log_every_n_steps=10). Set a lower value for log_every_n_steps if you want to see logs for the training epoch.\n"
     ]
    },
    {
     "name": "stdout",
     "output_type": "stream",
     "text": [
      "Epoch 30000/30000: 100%|█| 30000/30000 [5:11:44<00:00,  1.58it/s, v_num=1, elbo_"
     ]
    },
    {
     "name": "stderr",
     "output_type": "stream",
     "text": [
      "`Trainer.fit` stopped: `max_epochs=30000` reached.\n"
     ]
    },
    {
     "name": "stdout",
     "output_type": "stream",
     "text": [
      "Epoch 30000/30000: 100%|█| 30000/30000 [5:11:44<00:00,  1.60it/s, v_num=1, elbo_\n",
      "Sampling local variables, batch: 100%|████████████| 1/1 [01:10<00:00, 70.27s/it]\n",
      "Sampling global variables, sample: 100%|██████| 999/999 [01:27<00:00, 11.44it/s]\n"
     ]
    },
    {
     "name": "stderr",
     "output_type": "stream",
     "text": [
      "GPU available: True (mps), used: False\n",
      "TPU available: False, using: 0 TPU cores\n",
      "IPU available: False, using: 0 IPUs\n",
      "HPU available: False, using: 0 HPUs\n",
      "/Users/tili/miniconda3/envs/cell2loc_env/lib/python3.9/site-packages/lightning/pytorch/trainer/setup.py:187: GPU available but not used. You can set it by doing `Trainer(accelerator='gpu')`.\n",
      "/Users/tili/miniconda3/envs/cell2loc_env/lib/python3.9/site-packages/lightning/pytorch/trainer/configuration_validator.py:72: You passed in a `val_dataloader` but have no `validation_step`. Skipping val loop.\n",
      "/Users/tili/miniconda3/envs/cell2loc_env/lib/python3.9/site-packages/lightning/pytorch/trainer/connectors/data_connector.py:441: The 'train_dataloader' does not have many workers which may be a bottleneck. Consider increasing the value of the `num_workers` argument` to `num_workers=23` in the `DataLoader` to improve performance.\n",
      "/Users/tili/miniconda3/envs/cell2loc_env/lib/python3.9/site-packages/lightning/pytorch/loops/fit_loop.py:293: The number of training batches (1) is smaller than the logging interval Trainer(log_every_n_steps=10). Set a lower value for log_every_n_steps if you want to see logs for the training epoch.\n"
     ]
    },
    {
     "name": "stdout",
     "output_type": "stream",
     "text": [
      "Epoch 30000/30000: 100%|█| 30000/30000 [4:42:53<00:00,  1.75it/s, v_num=1, elbo_"
     ]
    },
    {
     "name": "stderr",
     "output_type": "stream",
     "text": [
      "`Trainer.fit` stopped: `max_epochs=30000` reached.\n"
     ]
    },
    {
     "name": "stdout",
     "output_type": "stream",
     "text": [
      "Epoch 30000/30000: 100%|█| 30000/30000 [4:42:53<00:00,  1.77it/s, v_num=1, elbo_\n",
      "Sampling local variables, batch: 100%|████████████| 1/1 [01:03<00:00, 63.61s/it]\n",
      "Sampling global variables, sample: 100%|██████| 999/999 [01:19<00:00, 12.55it/s]\n"
     ]
    },
    {
     "name": "stderr",
     "output_type": "stream",
     "text": [
      "GPU available: True (mps), used: False\n",
      "TPU available: False, using: 0 TPU cores\n",
      "IPU available: False, using: 0 IPUs\n",
      "HPU available: False, using: 0 HPUs\n",
      "/Users/tili/miniconda3/envs/cell2loc_env/lib/python3.9/site-packages/lightning/pytorch/trainer/setup.py:187: GPU available but not used. You can set it by doing `Trainer(accelerator='gpu')`.\n",
      "/Users/tili/miniconda3/envs/cell2loc_env/lib/python3.9/site-packages/lightning/pytorch/trainer/configuration_validator.py:72: You passed in a `val_dataloader` but have no `validation_step`. Skipping val loop.\n",
      "/Users/tili/miniconda3/envs/cell2loc_env/lib/python3.9/site-packages/lightning/pytorch/trainer/connectors/data_connector.py:441: The 'train_dataloader' does not have many workers which may be a bottleneck. Consider increasing the value of the `num_workers` argument` to `num_workers=23` in the `DataLoader` to improve performance.\n",
      "/Users/tili/miniconda3/envs/cell2loc_env/lib/python3.9/site-packages/lightning/pytorch/loops/fit_loop.py:293: The number of training batches (1) is smaller than the logging interval Trainer(log_every_n_steps=10). Set a lower value for log_every_n_steps if you want to see logs for the training epoch.\n"
     ]
    },
    {
     "name": "stdout",
     "output_type": "stream",
     "text": [
      "Epoch 30000/30000: 100%|█| 30000/30000 [4:01:41<00:00,  2.10it/s, v_num=1, elbo_"
     ]
    },
    {
     "name": "stderr",
     "output_type": "stream",
     "text": [
      "`Trainer.fit` stopped: `max_epochs=30000` reached.\n"
     ]
    },
    {
     "name": "stdout",
     "output_type": "stream",
     "text": [
      "Epoch 30000/30000: 100%|█| 30000/30000 [4:01:41<00:00,  2.07it/s, v_num=1, elbo_\n",
      "Sampling local variables, batch: 100%|████████████| 1/1 [01:07<00:00, 67.22s/it]\n",
      "Sampling global variables, sample: 100%|██████| 999/999 [01:06<00:00, 14.99it/s]\n"
     ]
    },
    {
     "name": "stderr",
     "output_type": "stream",
     "text": [
      "GPU available: True (mps), used: False\n",
      "TPU available: False, using: 0 TPU cores\n",
      "IPU available: False, using: 0 IPUs\n",
      "HPU available: False, using: 0 HPUs\n",
      "/Users/tili/miniconda3/envs/cell2loc_env/lib/python3.9/site-packages/lightning/pytorch/trainer/setup.py:187: GPU available but not used. You can set it by doing `Trainer(accelerator='gpu')`.\n",
      "/Users/tili/miniconda3/envs/cell2loc_env/lib/python3.9/site-packages/lightning/pytorch/trainer/configuration_validator.py:72: You passed in a `val_dataloader` but have no `validation_step`. Skipping val loop.\n",
      "/Users/tili/miniconda3/envs/cell2loc_env/lib/python3.9/site-packages/lightning/pytorch/trainer/connectors/data_connector.py:441: The 'train_dataloader' does not have many workers which may be a bottleneck. Consider increasing the value of the `num_workers` argument` to `num_workers=23` in the `DataLoader` to improve performance.\n",
      "/Users/tili/miniconda3/envs/cell2loc_env/lib/python3.9/site-packages/lightning/pytorch/loops/fit_loop.py:293: The number of training batches (1) is smaller than the logging interval Trainer(log_every_n_steps=10). Set a lower value for log_every_n_steps if you want to see logs for the training epoch.\n"
     ]
    },
    {
     "name": "stdout",
     "output_type": "stream",
     "text": [
      "Epoch 30000/30000: 100%|█| 30000/30000 [3:41:01<00:00,  2.26it/s, v_num=1, elbo_"
     ]
    },
    {
     "name": "stderr",
     "output_type": "stream",
     "text": [
      "`Trainer.fit` stopped: `max_epochs=30000` reached.\n"
     ]
    },
    {
     "name": "stdout",
     "output_type": "stream",
     "text": [
      "Epoch 30000/30000: 100%|█| 30000/30000 [3:41:01<00:00,  2.26it/s, v_num=1, elbo_\n",
      "Sampling local variables, batch: 100%|████████████| 1/1 [01:02<00:00, 62.32s/it]\n",
      "Sampling global variables, sample: 100%|██████| 999/999 [01:01<00:00, 16.22it/s]\n"
     ]
    }
   ],
   "source": [
    "# Cell2location mapping\n",
    "for row in info2.iterrows():\n",
    "    id = row[1]['sampleID']\n",
    "    Type = row[1]['type']\n",
    "    if (Type == \"TNBC\"):\n",
    "        # Read single cell reference data\n",
    "        adata_ref = adata_ref_tnbc\n",
    "    else:\n",
    "        adata_ref = adata_ref_her2\n",
    "\n",
    "    # Read visium data\n",
    "    adata_vis = sc.read(f'/Users/tili/Desktop/CIIR/data/ST_data/cell2location/{id}.h5ad')\n",
    "\n",
    "    # Extracting reference cell types signatures as a pd.DataFrame.\n",
    "    # All parameters of the a Negative Binomial regression model are exported into reference anndata object, \n",
    "    # however for spatial mapping we just need the estimated expression of every gene in every cell type. \n",
    "    # Here we extract that from standard output:\n",
    "    # export estimated expression in each cluster\n",
    "    if 'means_per_cluster_mu_fg' in adata_ref.varm.keys():\n",
    "        inf_aver = adata_ref.varm['means_per_cluster_mu_fg'][[f'means_per_cluster_mu_fg_{i}' \n",
    "                                        for i in adata_ref.uns['mod']['factor_names']]].copy()\n",
    "    else:\n",
    "        inf_aver = adata_ref.var[[f'means_per_cluster_mu_fg_{i}' \n",
    "                                        for i in adata_ref.uns['mod']['factor_names']]].copy()\n",
    "    inf_aver.columns = adata_ref.uns['mod']['factor_names']\n",
    "    inf_aver.iloc[0:5, 0:5]\n",
    "\n",
    "    # Cell2location: spatial mapping \n",
    "    # Find shared genes and prepare anndata. Subset both anndata and reference signatures:\n",
    "    intersect = np.intersect1d(adata_vis.var_names, inf_aver.index)\n",
    "    adata_vis = adata_vis[:, intersect].copy()\n",
    "    inf_aver = inf_aver.loc[intersect, :].copy()\n",
    "\n",
    "    # prepare anndata for cell2location model\n",
    "    cell2location.models.Cell2location.setup_anndata(adata=adata_vis, batch_key=\"orig.ident\")\n",
    "\n",
    "    # create and train the model\n",
    "    mod = cell2location.models.Cell2location(\n",
    "        adata_vis, cell_state_df=inf_aver, \n",
    "        # the expected average cell abundance: tissue-dependent \n",
    "        # hyper-prior which can be estimated from paired histology:\n",
    "        #N_cells_per_location=50, # For BCSA1\n",
    "        N_cells_per_location=20, # For BCSA2-4\n",
    "        # hyperparameter controlling normalisation of\n",
    "        # within-experiment variation in RNA detection:\n",
    "        detection_alpha=20\n",
    "    ) \n",
    "\n",
    "    # Training cell2location\n",
    "    mod.train(max_epochs=30000, \n",
    "          # train using full data (batch_size=None)\n",
    "          batch_size=None, \n",
    "          # use all data points in training because \n",
    "          # we need to estimate cell abundance at all locations\n",
    "          train_size=1,\n",
    "         )\n",
    "\n",
    "    # In this section, we export the estimated cell abundance (summary of the posterior distribution).\n",
    "    adata_vis = mod.export_posterior(\n",
    "        adata_vis, sample_kwargs={'num_samples': 1000, 'batch_size': mod.adata.n_obs}\n",
    "    )\n",
    "\n",
    "    # Save the prediction results as csv files\n",
    "    path = \"/Users/tili/Desktop/CIIR/results/cell2location/\" + id + \"_q05_20_cells_per_spot.csv\"\n",
    "    adata_vis.obsm['q05_cell_abundance_w_sf'].to_csv(path)"
   ]
  }
 ],
 "metadata": {
  "kernelspec": {
   "display_name": "Environment (cell2loc_env)",
   "language": "python",
   "name": "cell2loc_env"
  },
  "language_info": {
   "codemirror_mode": {
    "name": "ipython",
    "version": 3
   },
   "file_extension": ".py",
   "mimetype": "text/x-python",
   "name": "python",
   "nbconvert_exporter": "python",
   "pygments_lexer": "ipython3",
   "version": "3.9.19"
  }
 },
 "nbformat": 4,
 "nbformat_minor": 5
}
